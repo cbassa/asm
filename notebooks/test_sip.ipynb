{
 "cells": [
  {
   "cell_type": "code",
   "execution_count": 19,
   "metadata": {},
   "outputs": [],
   "source": [
    "import numpy as np\n",
    "import matplotlib.pyplot as plt\n",
    "from astropy.wcs import wcs, Sip\n",
    "from astropy.io import fits\n",
    "import os"
   ]
  },
  {
   "cell_type": "markdown",
   "metadata": {},
   "source": [
    "Let's open the example world coordinate system which includes SIP distortion coefficients from the `astropy` tests."
   ]
  },
  {
   "cell_type": "code",
   "execution_count": 20,
   "metadata": {},
   "outputs": [
    {
     "name": "stderr",
     "output_type": "stream",
     "text": [
      "WARNING: FITSFixedWarning: The WCS transformation has more axes (2) than the image it is associated with (0) [astropy.wcs.wcs]\n"
     ]
    },
    {
     "data": {
      "text/plain": [
       "<bound method HDUList.close of [<astropy.io.fits.hdu.image.PrimaryHDU object at 0x7fbb27a9f7b8>]>"
      ]
     },
     "execution_count": 20,
     "metadata": {},
     "output_type": "execute_result"
    }
   ],
   "source": [
    "hdu = fits.open(os.path.join(os.path.dirname(wcs.__file__), 'tests/data/sip.fits'))\n",
    "w0 = wcs.WCS(hdu[0].header)\n",
    "hdu.close"
   ]
  },
  {
   "cell_type": "markdown",
   "metadata": {},
   "source": [
    "The WCS contains the regular keywords, as well as a `SIP` object, which has two matrices, one of the distortion correction of each coordinat."
   ]
  },
  {
   "cell_type": "code",
   "execution_count": 21,
   "metadata": {},
   "outputs": [
    {
     "name": "stdout",
     "output_type": "stream",
     "text": [
      "WCS Keywords\n",
      "\n",
      "Number of WCS axes: 2\n",
      "CTYPE : 'RA---TAN-SIP'  'DEC--TAN-SIP'  \n",
      "CRVAL : 202.482322805  47.17511893  \n",
      "CRPIX : 128.0  128.0  \n",
      "PC1_1 PC1_2  : 0.000249756880272  0.000230177809744  \n",
      "PC2_1 PC2_2  : 0.000230428519265  -0.000249965770577  \n",
      "CDELT : 1.0  1.0  \n",
      "NAXIS : 0  0\n",
      "[[ 0.0000e+00  0.0000e+00  2.9656e-06  3.7746e-09]\n",
      " [ 0.0000e+00  2.1886e-05 -1.6847e-07  0.0000e+00]\n",
      " [-2.3863e-05 -8.5610e-09  0.0000e+00  0.0000e+00]\n",
      " [-1.4172e-07  0.0000e+00  0.0000e+00  0.0000e+00]]\n",
      "[[ 0.0000e+00  0.0000e+00  2.3100e-05 -1.6168e-07]\n",
      " [ 0.0000e+00 -2.4386e-05 -5.7813e-09  0.0000e+00]\n",
      " [ 2.1197e-06 -1.6583e-07  0.0000e+00  0.0000e+00]\n",
      " [-2.0249e-08  0.0000e+00  0.0000e+00  0.0000e+00]]\n"
     ]
    }
   ],
   "source": [
    "print(w0)\n",
    "print(np.matrix(w0.sip.a))\n",
    "print(np.matrix(w0.sip.b))"
   ]
  },
  {
   "cell_type": "markdown",
   "metadata": {},
   "source": [
    "Assuming a $256x256$ pixel image, let's generate random positions."
   ]
  },
  {
   "cell_type": "code",
   "execution_count": 24,
   "metadata": {},
   "outputs": [],
   "source": [
    "npoints = 500\n",
    "x, y = 256.0*np.random.random(npoints), 256.0*np.random.random(npoints)"
   ]
  },
  {
   "cell_type": "markdown",
   "metadata": {},
   "source": [
    "Use the WCS and SIP coefficients to generate celestial positions."
   ]
  },
  {
   "cell_type": "code",
   "execution_count": 25,
   "metadata": {},
   "outputs": [],
   "source": [
    "ra, dec = w0.all_pix2world(np.stack((x, y), axis=1), 1).T"
   ]
  },
  {
   "cell_type": "code",
   "execution_count": 26,
   "metadata": {},
   "outputs": [
    {
     "data": {
      "text/plain": [
       "[<matplotlib.lines.Line2D at 0x7fbb28021320>]"
      ]
     },
     "execution_count": 26,
     "metadata": {},
     "output_type": "execute_result"
    },
    {
     "data": {
      "image/png": "[encoded data removed]",
      "text/plain": [
       "<Figure size 432x288 with 1 Axes>"
      ]
     },
     "metadata": {
      "needs_background": "light"
     },
     "output_type": "display_data"
    }
   ],
   "source": [
    "plt.plot(ra, dec, \".\")"
   ]
  },
  {
   "cell_type": "code",
   "execution_count": 27,
   "metadata": {},
   "outputs": [],
   "source": [
    "def solve_linear_equation(a, b):\n",
    "    q, r = np.linalg.qr(a)\n",
    "    y = np.dot(q.T, b)\n",
    "    x = np.linalg.solve(r, y)\n",
    "    return x"
   ]
  },
  {
   "cell_type": "code",
   "execution_count": 39,
   "metadata": {},
   "outputs": [
    {
     "name": "stdout",
     "output_type": "stream",
     "text": [
      "202.4 47.2 0.05595975172581192 -0.024851586320874506\n",
      "202.4823228050438 47.17511892998695 -2.9771387867098375e-11 1.3050169506989659e-11\n",
      "202.48232280499997 47.17511893 1.9429728103572433e-14 2.2074868243857405e-15\n",
      "202.482322805 47.17511893 4.3152455970840006e-16 1.7709099197795207e-15\n",
      "202.482322805 47.17511893 4.3152455970840006e-16 1.7709099197795207e-15\n"
     ]
    }
   ],
   "source": [
    "ra0, dec0 = 202.4, 47.2\n",
    "x0, y0 = 128, 128\n",
    "dx, dy = x-x0, y-y0\n",
    "\n",
    "order = 3\n",
    "ixs, iys = np.meshgrid(np.arange(order+1), np.arange(order+1))\n",
    "c=ixs+iys<=order\n",
    "ix, iy = ixs[c], iys[c]\n",
    "\n",
    "a = np.array([dx**ix[i]*dy**iy[i] for i in range(len(iy))]).T\n",
    "\n",
    "for k in range(5):\n",
    "    w = wcs.WCS(naxis=2)\n",
    "    w.wcs.ctype = [\"RA---TAN\", \"DEC--TAN\"]\n",
    "    w.wcs.cd = [[1.0, 0.0], [0.0, 1.0]]\n",
    "    w.wcs.crval = [ra0, dec0]\n",
    "    w.wcs.crpix = [0.0, 0.0]\n",
    "\n",
    "    p = w.wcs_world2pix(ra, dec, 1)\n",
    "    rx, ry = p[0], p[1]\n",
    "    \n",
    "    ax = solve_linear_equation(a, rx)\n",
    "    ay = solve_linear_equation(a, ry)\n",
    "\n",
    "    print(ra0, dec0, ax[0], ay[0])\n",
    "    \n",
    "    ra0, dec0 = w.wcs_pix2world(([[ax[0], ay[0]]]), 1)[0]"
   ]
  },
  {
   "cell_type": "code",
   "execution_count": 40,
   "metadata": {},
   "outputs": [
    {
     "name": "stdout",
     "output_type": "stream",
     "text": [
      "202.482322805 47.17511893\n",
      "[202.4823228   47.17511893]\n"
     ]
    }
   ],
   "source": [
    "print(ra0, dec0)\n",
    "print(w0.wcs.crval)"
   ]
  },
  {
   "cell_type": "code",
   "execution_count": 41,
   "metadata": {},
   "outputs": [],
   "source": [
    "cd = np.array([[ax[1], ax[order+1]], [ay[1], ay[order+1]]])\n",
    "cdinv = np.linalg.inv(cd)"
   ]
  },
  {
   "cell_type": "code",
   "execution_count": 43,
   "metadata": {},
   "outputs": [
    {
     "name": "stdout",
     "output_type": "stream",
     "text": [
      "[[ 0.00024976  0.00023018]\n",
      " [ 0.00023043 -0.00024997]]\n",
      "[[ 0.00024976  0.00023018]\n",
      " [ 0.00023043 -0.00024997]]\n"
     ]
    }
   ],
   "source": [
    "print(cd)\n",
    "print(w0.wcs.pc)"
   ]
  },
  {
   "cell_type": "code",
   "execution_count": 44,
   "metadata": {},
   "outputs": [],
   "source": [
    "axm = np.zeros_like(ixs).astype(\"float32\")\n",
    "aym = np.zeros_like(ixs).astype(\"float32\")\n",
    "for i in range(len(ix)):\n",
    "    if ix[i]+iy[i]>=2:\n",
    "        p = np.matmul(cdinv, np.array([ax[i], ay[i]]))\n",
    "        axm[iy[i], ix[i]] = p[0]\n",
    "        aym[iy[i], ix[i]] = p[1]   "
   ]
  },
  {
   "cell_type": "code",
   "execution_count": 45,
   "metadata": {},
   "outputs": [
    {
     "name": "stdout",
     "output_type": "stream",
     "text": [
      "[[ 0.0000e+00  0.0000e+00  2.9656e-06  3.7746e-09]\n",
      " [ 0.0000e+00  2.1886e-05 -1.6847e-07  0.0000e+00]\n",
      " [-2.3863e-05 -8.5610e-09  0.0000e+00  0.0000e+00]\n",
      " [-1.4172e-07  0.0000e+00  0.0000e+00  0.0000e+00]]\n",
      "[[ 0.0000e+00  0.0000e+00  2.9656e-06  3.7746e-09]\n",
      " [ 0.0000e+00  2.1886e-05 -1.6847e-07  0.0000e+00]\n",
      " [-2.3863e-05 -8.5610e-09  0.0000e+00  0.0000e+00]\n",
      " [-1.4172e-07  0.0000e+00  0.0000e+00  0.0000e+00]]\n"
     ]
    }
   ],
   "source": [
    "print(np.matrix(axm.T))\n",
    "print(np.matrix(w0.sip.a))"
   ]
  },
  {
   "cell_type": "code",
   "execution_count": 37,
   "metadata": {},
   "outputs": [
    {
     "name": "stdout",
     "output_type": "stream",
     "text": [
      "[[ 0.0000e+00  0.0000e+00  2.3100e-05 -1.6168e-07]\n",
      " [ 0.0000e+00 -2.4386e-05 -5.7813e-09  0.0000e+00]\n",
      " [ 2.1197e-06 -1.6583e-07  0.0000e+00  0.0000e+00]\n",
      " [-2.0249e-08  0.0000e+00  0.0000e+00  0.0000e+00]]\n",
      "[[ 0.0000e+00  0.0000e+00  2.3100e-05 -1.6168e-07]\n",
      " [ 0.0000e+00 -2.4386e-05 -5.7813e-09  0.0000e+00]\n",
      " [ 2.1197e-06 -1.6583e-07  0.0000e+00  0.0000e+00]\n",
      " [-2.0249e-08  0.0000e+00  0.0000e+00  0.0000e+00]]\n"
     ]
    }
   ],
   "source": [
    "print(np.matrix(aym.T))\n",
    "print(np.matrix(w0.sip.b))"
   ]
  },
  {
   "cell_type": "code",
   "execution_count": null,
   "metadata": {},
   "outputs": [],
   "source": []
  }
 ],
 "metadata": {
  "kernelspec": {
   "display_name": "Python 3",
   "language": "python",
   "name": "python3"
  },
  "language_info": {
   "codemirror_mode": {
    "name": "ipython",
    "version": 3
   },
   "file_extension": ".py",
   "mimetype": "text/x-python",
   "name": "python",
   "nbconvert_exporter": "python",
   "pygments_lexer": "ipython3",
   "version": "3.7.1"
  }
 },
 "nbformat": 4,
 "nbformat_minor": 2
}
