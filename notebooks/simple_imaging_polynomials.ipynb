{
 "cells": [
  {
   "cell_type": "code",
   "execution_count": 2,
   "metadata": {},
   "outputs": [],
   "source": [
    "import numpy as np\n",
    "import matplotlib.pyplot as plt\n",
    "from astropy.io import ascii\n",
    "from astropy import wcs"
   ]
  },
  {
   "cell_type": "markdown",
   "metadata": {},
   "source": [
    "The Simple Imaging Polynomial (SIP) convention by Shupe et al. (2005) (http://fits.gsfc.nasa.gov/registry/sip/SIP_distortion_v1_0.pdf) implements distortion corrections as polynomials in FITS headers.\n",
    "\n",
    "The polynomials are defined as: $${r_x \\choose r_y} = \\textrm{CD} {x+p_x \\choose y+p_y}$$\n",
    "Here, $\\textrm{CD}$ is the $2\\times2$ transformation matrix, made up of the $\\textrm{CD1_1}$, $\\textrm{CD1_2}$, $\\textrm{CD2_1}$ and $\\textrm{CD2_2}$ parameters. $r_x$ and $r_y$ are the intermediate world coordinates, computed from deprojecting right ascension $\\alpha$ and declination $\\delta$ around some reference point $\\alpha_0$ and $\\delta_0$, set by the $\\textrm{CRVAL1}$ and $\\textrm{CRVAL2}$ keywords. $x$ and $y$ are pixel coordinates, with origin $\\textrm{CRPIX1}$ and $\\textrm{CRPIX2}$, while $p_x(x, y)$ and $p_y(x, y)$ are the distortion polynomials.\n",
    "\n",
    "The distortion polynomials are defined as:\n",
    "$p_x(x, y) = \\sum_{i, j} A_{i,j}x^i y^j$ and $p_y(x, y) = \\sum_{i, j} B_{i,j}x^i y^j$, with $i+j\\le \\textrm{A_ORDER}$ and $i+j\\le \\textrm{B_ORDER}$.\n",
    "\n",
    "A 3rd order polynomial would have the form: $p_x(x, y) = A_{00}+A_{10}x+A_{20}x^2+A_{30}x^3+A_{01}y+A_{11}xy+A_{21}x^2y+A_{02}y^2+A_{12}xy^2+A_{03}y^3$, as the values for $A_{31}$, $A_{32}$, $A_{33}$, $A_{22}$, $A_{23}$ and $A_{13}$ are all zero. Hence, the polynomial coefficients can be stored as an $(m+1)\\times (m+1)$ matrix, where $m = \\textrm{A_ORDER}$ and $m=\\textrm{B_ORDER}$. Also note that $A_{00}$, $A_{01}$ and $A_{10}$ are zero, as these parameters are dealt with by the $\\textrm{CD}$ matrix.\n",
    "\n",
    "Given that the $\\textrm{CD}$ matrix is involved, the full relation becomes:\n",
    "$r_x = \\textrm{CD1_1} (x+p_x(x, y)) + \\textrm{CD1_2} (y+p_y(x, y))$, such that:\n",
    "$$r_x = \\textrm{CD1_1} x + \\textrm{CD1_1}A_{02}x^2+\\textrm{CD1_1}A_{11}xy+\\textrm{CD1_1}A_{20}x^2$$"
   ]
  },
  {
   "cell_type": "code",
   "execution_count": 3,
   "metadata": {},
   "outputs": [],
   "source": [
    "t = ascii.read(\"distort.dat\")"
   ]
  },
  {
   "cell_type": "code",
   "execution_count": 4,
   "metadata": {},
   "outputs": [],
   "source": [
    "ra0, dec0 = np.mean(t[\"ra\"]), np.mean(t[\"dec\"])\n",
    "x0, y0 = 1548, 1040\n",
    "dx, dy = t[\"x\"]-x0, t[\"y\"]-y0\n",
    "\n",
    "w = wcs.WCS(naxis=2)\n",
    "w.wcs.ctype = [\"RA---ZEA\", \"DEC--ZEA\"]\n",
    "w.wcs.cd = [[-1.0, 0.0], [0.0, 1.0]]\n",
    "w.wcs.crval = [ra0, dec0]\n",
    "w.wcs.crpix = [0.0, 0.0]\n",
    "\n",
    "p = w.wcs_world2pix(t[\"ra\"], t[\"dec\"], 1)\n",
    "rx, ry = p[0], p[1]"
   ]
  },
  {
   "cell_type": "code",
   "execution_count": 26,
   "metadata": {},
   "outputs": [],
   "source": [
    "def solve_linear_equation(a, b):\n",
    "    q, r = np.linalg.qr(a)\n",
    "    y = np.dot(q.T, b)\n",
    "    x = np.linalg.solve(r, y)\n",
    "    return x"
   ]
  },
  {
   "cell_type": "code",
   "execution_count": 66,
   "metadata": {},
   "outputs": [],
   "source": [
    "n = len(t)\n",
    "#a = np.array([[1.0, dx[i], dy[i], dx[i]**2, dx[i]*dy[i], dy[i]**2, dx[i]**3, dx[i]**2*dy[i], dx[i]*dy[i]**2, dy[i]**3] for i in range(n)])"
   ]
  },
  {
   "cell_type": "code",
   "execution_count": 112,
   "metadata": {},
   "outputs": [
    {
     "name": "stdout",
     "output_type": "stream",
     "text": [
      "6\n"
     ]
    }
   ],
   "source": [
    "a_order = 2\n",
    "ixs, iys = np.meshgrid(np.arange(a_order+1), np.arange(a_order+1))\n",
    "c=ixs+iys<=a_order\n",
    "ix, iy = ixs[c], iys[c]\n",
    "print(len(ix))"
   ]
  },
  {
   "cell_type": "code",
   "execution_count": 117,
   "metadata": {},
   "outputs": [
    {
     "name": "stdout",
     "output_type": "stream",
     "text": [
      "(1198, 6)\n",
      "[0 1 2 0 1 0] [0 0 0 1 1 2]\n"
     ]
    }
   ],
   "source": [
    "a = np.array([dx**ix[i]*dy**iy[i] for i in range(len(iy))]).T\n",
    "print(a.shape)\n",
    "print(ix, iy)"
   ]
  },
  {
   "cell_type": "code",
   "execution_count": 114,
   "metadata": {},
   "outputs": [
    {
     "name": "stdout",
     "output_type": "stream",
     "text": [
      "[-2.73742276e+00  5.38684996e-02  4.27509970e-07 -6.21988565e-03\n",
      "  3.76065103e-08  1.31675057e-06] [-5.00823802e-01  6.25729025e-03  4.99514171e-07  5.38646056e-02\n",
      " -9.18231887e-07  4.76235885e-07]\n"
     ]
    }
   ],
   "source": [
    "ax = solve_linear_equation(a, rx)\n",
    "ay = solve_linear_equation(a, ry)\n",
    "print(ax, ay)"
   ]
  },
  {
   "cell_type": "code",
   "execution_count": 126,
   "metadata": {},
   "outputs": [
    {
     "name": "stdout",
     "output_type": "stream",
     "text": [
      "[False  True False False False False]\n"
     ]
    }
   ],
   "source": [
    "jx = (ix==1) & (iy==0)\n",
    "print(jx)"
   ]
  },
  {
   "cell_type": "code",
   "execution_count": 120,
   "metadata": {},
   "outputs": [],
   "source": [
    "cd = np.array([[ax[1], ax[3]], [ay[1], ay[3]]])"
   ]
  },
  {
   "cell_type": "code",
   "execution_count": 125,
   "metadata": {},
   "outputs": [
    {
     "data": {
      "text/plain": [
       "array([[18.31802262,  2.11522956],\n",
       "       [-2.12794994, 18.31934689]])"
      ]
     },
     "execution_count": 125,
     "metadata": {},
     "output_type": "execute_result"
    }
   ],
   "source": [
    "np.linalg.inv(cd)"
   ]
  },
  {
   "cell_type": "code",
   "execution_count": null,
   "metadata": {},
   "outputs": [],
   "source": []
  }
 ],
 "metadata": {
  "kernelspec": {
   "display_name": "Python 3",
   "language": "python",
   "name": "python3"
  },
  "language_info": {
   "codemirror_mode": {
    "name": "ipython",
    "version": 3
   },
   "file_extension": ".py",
   "mimetype": "text/x-python",
   "name": "python",
   "nbconvert_exporter": "python",
   "pygments_lexer": "ipython3",
   "version": "3.6.8"
  }
 },
 "nbformat": 4,
 "nbformat_minor": 2
}
